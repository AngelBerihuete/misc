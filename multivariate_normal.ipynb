{
 "cells": [
  {
   "cell_type": "code",
   "execution_count": 1,
   "metadata": {
    "collapsed": true
   },
   "outputs": [],
   "source": [
    "import numpy as np\n",
    "import matplotlib.pylab as plt\n",
    "%matplotlib inline\n",
    "import tensorflow as tf\n",
    "import scipy.stats as sps\n",
    "import edward as ed\n",
    "import edward.models as edm\n",
    "from tensorflow.contrib.linalg import LinearOperatorTriL\n",
    "import itertools\n",
    "ds = tf.contrib.distributions"
   ]
  },
  {
   "cell_type": "code",
   "execution_count": 2,
   "metadata": {
    "collapsed": true
   },
   "outputs": [],
   "source": [
    "D = 2\n",
    "N = 10**3\n",
    "cov = np.array([[1, 1.2],[1.2, 2.5]])\n",
    "X = sps.multivariate_normal.rvs(mean = np.array([1,5]), cov = cov, size=N)"
   ]
  },
  {
   "cell_type": "code",
   "execution_count": 3,
   "metadata": {
    "scrolled": true
   },
   "outputs": [
    {
     "data": {
      "text/plain": [
       "[<matplotlib.lines.Line2D at 0x22e16e97630>]"
      ]
     },
     "execution_count": 3,
     "metadata": {},
     "output_type": "execute_result"
    },
    {
     "data": {
      "image/png": "[encoded data removed]",
      "text/plain": [
       "<matplotlib.figure.Figure at 0x22e16a69da0>"
      ]
     },
     "metadata": {},
     "output_type": "display_data"
    }
   ],
   "source": [
    "plt.plot(X[:,0],X[:,1],'o')"
   ]
  },
  {
   "cell_type": "markdown",
   "metadata": {},
   "source": [
    "It is not common to use wishart distribution as a prior.. but let's do this as a baseline"
   ]
  },
  {
   "cell_type": "markdown",
   "metadata": {},
   "source": [
    "$$\\textbf{x}_i\\sim\\mathcal{MVN}(\\boldsymbol{\\mu},\\boldsymbol{\\Sigma})$$"
   ]
  },
  {
   "cell_type": "markdown",
   "metadata": {},
   "source": [
    "$$\\boldsymbol{\\mu}|\\boldsymbol{\\Sigma}\\sim\\mathcal{MVN}(\\mu_0,k_0\\boldsymbol{\\Sigma})$$"
   ]
  },
  {
   "cell_type": "markdown",
   "metadata": {},
   "source": [
    "$$\\boldsymbol{\\Sigma}\\sim\\text{Wishart}(\\nu_0,\\boldsymbol{\\Psi}_0)$$"
   ]
  },
  {
   "cell_type": "code",
   "execution_count": 4,
   "metadata": {
    "collapsed": true
   },
   "outputs": [],
   "source": [
    "# priors\n",
    "nu0 = tf.Variable(D, dtype=tf.float32, trainable=False)\n",
    "psi0 = tf.Variable(np.eye(D),\n",
    "                      dtype=tf.float32, trainable=False)\n",
    "mu0 = tf.Variable(np.zeros(D), dtype=tf.float32, trainable=False)\n",
    "k0 = tf.Variable(1., dtype=tf.float32, trainable=False)"
   ]
  },
  {
   "cell_type": "code",
   "execution_count": 5,
   "metadata": {
    "collapsed": true
   },
   "outputs": [],
   "source": [
    "sigma = edm.WishartCholesky(df=nu0, scale=psi0,cholesky_input_output_matrices=True)\n",
    "#sigma = WishartFull(df=v_prior, scale=W_prior, name=\"psigma\")\n",
    "mu = edm.MultivariateNormalTriL(mu0, k0*sigma)\n",
    "# tile flatten mu[d] times N,  which, N times D\n",
    "xn = edm.MultivariateNormalTriL(tf.reshape(tf.tile(mu, [N]), [N, D]),\n",
    "                            tf.reshape(tf.tile(sigma, [N, 1]), [N, D, D]))\n"
   ]
  },
  {
   "cell_type": "code",
   "execution_count": 6,
   "metadata": {
    "collapsed": true
   },
   "outputs": [],
   "source": [
    "sess = ed.get_session()\n",
    "init = tf.global_variables_initializer()\n",
    "init.run()"
   ]
  },
  {
   "cell_type": "code",
   "execution_count": 7,
   "metadata": {},
   "outputs": [
    {
     "data": {
      "text/plain": [
       "array([[[ 0.82807511,  0.        ],\n",
       "        [-1.31973839,  0.55620533]]], dtype=float32)"
      ]
     },
     "execution_count": 7,
     "metadata": {},
     "output_type": "execute_result"
    }
   ],
   "source": [
    "sigma.sample(1).eval()"
   ]
  },
  {
   "cell_type": "code",
   "execution_count": 8,
   "metadata": {
    "collapsed": true
   },
   "outputs": [],
   "source": [
    "#qnu0=tf.round(tf.nn.softplus(tf.Variable(tf.random_normal([]))))+D\n",
    "qpsi0 = tf.Variable(tf.random_normal([D, D], dtype=tf.float32))\n",
    "Ltril = LinearOperatorTriL(ds.matrix_diag_transform(qpsi0, transform=tf.nn.softplus)).to_dense()\n",
    "qsigma = edm.WishartCholesky(df=100,scale=Ltril) #,cholesky_input_output_matrices=True)"
   ]
  },
  {
   "cell_type": "code",
   "execution_count": 9,
   "metadata": {
    "collapsed": true
   },
   "outputs": [],
   "source": [
    "qmu0 = tf.Variable(tf.random_normal([D], dtype=tf.float32))\n",
    "qR = tf.Variable(tf.random_normal([D, D], dtype=tf.float32))\n",
    "qmu = edm.MultivariateNormalTriL(qmu0, qR)"
   ]
  },
  {
   "cell_type": "code",
   "execution_count": 10,
   "metadata": {
    "collapsed": true
   },
   "outputs": [],
   "source": [
    "inference3 = ed.KLqp({mu: qmu, sigma: qsigma}, data={xn: X})\n",
    "inference3.initialize(n_iter=1000, n_print=100, n_samples=30)\n",
    "sess = ed.get_session()\n",
    "init = tf.global_variables_initializer()\n",
    "init.run()\n",
    "\n"
   ]
  },
  {
   "cell_type": "code",
   "execution_count": 11,
   "metadata": {},
   "outputs": [
    {
     "name": "stdout",
     "output_type": "stream",
     "text": [
      "{'t': 1, 'loss': 30894.869}\n",
      "{'t': 31, 'loss': 4609.5601}\n",
      "{'t': 61, 'loss': 3016.9592}\n",
      "{'t': 91, 'loss': 2919.0798}\n",
      "{'t': 121, 'loss': 2914.5278}\n",
      "{'t': 151, 'loss': 2924.5601}\n",
      "{'t': 181, 'loss': 2914.582}\n",
      "{'t': 211, 'loss': 2957.9241}\n",
      "{'t': 241, 'loss': 2917.8008}\n",
      "{'t': 271, 'loss': 2914.7256}\n",
      "{'t': 301, 'loss': 2911.1003}\n",
      "{'t': 331, 'loss': 2928.4077}\n",
      "{'t': 361, 'loss': 2922.8875}\n",
      "{'t': 391, 'loss': 2910.9629}\n",
      "{'t': 421, 'loss': 2930.0022}\n",
      "{'t': 451, 'loss': 2941.1216}\n",
      "{'t': 481, 'loss': 2908.6716}\n",
      "{'t': 511, 'loss': 2918.7324}\n",
      "{'t': 541, 'loss': 2907.4836}\n",
      "{'t': 571, 'loss': 2914.6218}\n",
      "{'t': 601, 'loss': 2931.9663}\n",
      "{'t': 631, 'loss': 2939.0745}\n",
      "{'t': 661, 'loss': 2908.2207}\n",
      "{'t': 691, 'loss': 2910.7703}\n",
      "{'t': 721, 'loss': 2916.9614}\n",
      "{'t': 751, 'loss': 2921.7312}\n",
      "{'t': 781, 'loss': 2943.6404}\n",
      "{'t': 811, 'loss': 2910.7773}\n",
      "{'t': 841, 'loss': 2914.3391}\n",
      "{'t': 871, 'loss': 2938.5876}\n",
      "{'t': 901, 'loss': 2919.4893}\n",
      "{'t': 931, 'loss': 2950.9092}\n",
      "{'t': 961, 'loss': 2931.8442}\n",
      "{'t': 991, 'loss': 2904.8694}\n"
     ]
    },
    {
     "data": {
      "text/plain": [
       "[<matplotlib.lines.Line2D at 0x22e47a42358>]"
      ]
     },
     "execution_count": 11,
     "metadata": {},
     "output_type": "execute_result"
    },
    {
     "data": {
      "image/png": "[encoded data removed]",
      "text/plain": [
       "<matplotlib.figure.Figure at 0x22e175dbac8>"
      ]
     },
     "metadata": {},
     "output_type": "display_data"
    }
   ],
   "source": [
    "learning_curve3 = []\n",
    "for _ in range(inference3.n_iter):\n",
    "    info_dict = inference3.update()\n",
    "    if _%30 == 0:\n",
    "        print(info_dict)\n",
    "    learning_curve3.append(info_dict['loss'])\n",
    "plt.semilogy(learning_curve3)"
   ]
  },
  {
   "cell_type": "code",
   "execution_count": 12,
   "metadata": {},
   "outputs": [
    {
     "data": {
      "text/plain": [
       "array([ 1.00480413,  5.05055475], dtype=float32)"
      ]
     },
     "execution_count": 12,
     "metadata": {},
     "output_type": "execute_result"
    }
   ],
   "source": [
    "qmu0.eval()"
   ]
  },
  {
   "cell_type": "code",
   "execution_count": 13,
   "metadata": {
    "collapsed": true
   },
   "outputs": [],
   "source": [
    "LL=Ltril.eval()"
   ]
  },
  {
   "cell_type": "code",
   "execution_count": 14,
   "metadata": {
    "collapsed": true
   },
   "outputs": [],
   "source": [
    "psi_eval=np.matmul(LL,np.transpose(LL))"
   ]
  },
  {
   "cell_type": "code",
   "execution_count": 15,
   "metadata": {},
   "outputs": [
    {
     "data": {
      "text/plain": [
       "array([[ 0.95605667,  1.03447328],\n",
       "       [ 1.03447328,  1.16087938]])"
      ]
     },
     "execution_count": 15,
     "metadata": {},
     "output_type": "execute_result"
    }
   ],
   "source": [
    "sps.wishart.rvs(100,psi_eval,100).mean(axis=0)"
   ]
  },
  {
   "cell_type": "code",
   "execution_count": 16,
   "metadata": {},
   "outputs": [
    {
     "data": {
      "text/plain": [
       "array([[ 0.96949476,  1.05475414],\n",
       "       [ 1.05475414,  1.18848944]], dtype=float32)"
      ]
     },
     "execution_count": 16,
     "metadata": {},
     "output_type": "execute_result"
    }
   ],
   "source": [
    "qsigma.sample(100).eval().mean(axis=0)"
   ]
  },
  {
   "cell_type": "code",
   "execution_count": 17,
   "metadata": {
    "scrolled": true
   },
   "outputs": [
    {
     "data": {
      "text/plain": [
       "array([[ 0.97869706,  1.06033921],\n",
       "       [ 1.06033921,  1.1898452 ]], dtype=float32)"
      ]
     },
     "execution_count": 17,
     "metadata": {},
     "output_type": "execute_result"
    }
   ],
   "source": [
    "psi_eval*100 # expectation of wishart distribution  https://en.wikipedia.org/wiki/Wishart_distribution"
   ]
  },
  {
   "cell_type": "code",
   "execution_count": 23,
   "metadata": {},
   "outputs": [
    {
     "data": {
      "text/plain": [
       "1000"
      ]
     },
     "execution_count": 23,
     "metadata": {},
     "output_type": "execute_result"
    }
   ],
   "source": []
  },
  {
   "cell_type": "code",
   "execution_count": 18,
   "metadata": {},
   "outputs": [
    {
     "name": "stderr",
     "output_type": "stream",
     "text": [
      "C:\\ProgramData\\Anaconda3\\envs\\tensorflow\\lib\\site-packages\\scipy\\stats\\_multivariate.py:535: RuntimeWarning: covariance is not positive-semidefinite.\n",
      "  out = random_state.multivariate_normal(mean, cov, size)\n"
     ]
    }
   ],
   "source": [
    "mu_draws=sps.multivariate_normal.rvs(qmu0.eval(),qR.eval(),N)"
   ]
  },
  {
   "cell_type": "code",
   "execution_count": 19,
   "metadata": {
    "collapsed": true
   },
   "outputs": [],
   "source": [
    "sigma_draws=sps.wishart.rvs(100,psi_eval,N)"
   ]
  },
  {
   "cell_type": "code",
   "execution_count": 20,
   "metadata": {
    "collapsed": true
   },
   "outputs": [],
   "source": [
    "x_draws=np.zeros([1000,2])"
   ]
  },
  {
   "cell_type": "code",
   "execution_count": 21,
   "metadata": {
    "collapsed": true
   },
   "outputs": [],
   "source": [
    "for i in range(N):\n",
    "    x_draws[i,:]=sps.multivariate_normal.rvs(mu_draws[i,:],sigma_draws[i,:,:])"
   ]
  },
  {
   "cell_type": "code",
   "execution_count": 22,
   "metadata": {},
   "outputs": [
    {
     "data": {
      "text/plain": [
       "array([ 1.32924913,  3.03419438])"
      ]
     },
     "execution_count": 22,
     "metadata": {},
     "output_type": "execute_result"
    }
   ],
   "source": [
    "x_draws[3,:]"
   ]
  },
  {
   "cell_type": "code",
   "execution_count": 23,
   "metadata": {},
   "outputs": [
    {
     "data": {
      "text/plain": [
       "array([[ 0.90241317,  0.97416113],\n",
       "       [ 0.97416113,  1.09321445]])"
      ]
     },
     "execution_count": 23,
     "metadata": {},
     "output_type": "execute_result"
    }
   ],
   "source": [
    "sigma_draws[2,:,:]"
   ]
  },
  {
   "cell_type": "code",
   "execution_count": 24,
   "metadata": {
    "scrolled": true
   },
   "outputs": [
    {
     "data": {
      "text/plain": [
       "[<matplotlib.lines.Line2D at 0x22e3cdd9470>,\n",
       " <matplotlib.lines.Line2D at 0x22e3cdd9630>]"
      ]
     },
     "execution_count": 24,
     "metadata": {},
     "output_type": "execute_result"
    },
    {
     "data": {
      "image/png": "[encoded data removed]",
      "text/plain": [
       "<matplotlib.figure.Figure at 0x22e3cd48ac8>"
      ]
     },
     "metadata": {},
     "output_type": "display_data"
    }
   ],
   "source": [
    "plt.plot(x_draws[:,0],x_draws[:,1],'ro',X[:,0],X[:,1],'bo')"
   ]
  },
  {
   "cell_type": "code",
   "execution_count": null,
   "metadata": {
    "collapsed": true
   },
   "outputs": [],
   "source": []
  },
  {
   "cell_type": "code",
   "execution_count": null,
   "metadata": {
    "collapsed": true
   },
   "outputs": [],
   "source": []
  },
  {
   "cell_type": "code",
   "execution_count": null,
   "metadata": {
    "collapsed": true
   },
   "outputs": [],
   "source": []
  },
  {
   "cell_type": "code",
   "execution_count": null,
   "metadata": {
    "collapsed": true
   },
   "outputs": [],
   "source": []
  },
  {
   "cell_type": "code",
   "execution_count": null,
   "metadata": {
    "collapsed": true
   },
   "outputs": [],
   "source": []
  },
  {
   "cell_type": "code",
   "execution_count": null,
   "metadata": {
    "collapsed": true
   },
   "outputs": [],
   "source": []
  },
  {
   "cell_type": "code",
   "execution_count": null,
   "metadata": {
    "collapsed": true
   },
   "outputs": [],
   "source": []
  },
  {
   "cell_type": "code",
   "execution_count": null,
   "metadata": {
    "collapsed": true
   },
   "outputs": [],
   "source": []
  },
  {
   "cell_type": "code",
   "execution_count": null,
   "metadata": {
    "collapsed": true
   },
   "outputs": [],
   "source": []
  },
  {
   "cell_type": "code",
   "execution_count": null,
   "metadata": {
    "collapsed": true
   },
   "outputs": [],
   "source": []
  },
  {
   "cell_type": "code",
   "execution_count": null,
   "metadata": {
    "collapsed": true
   },
   "outputs": [],
   "source": []
  },
  {
   "cell_type": "code",
   "execution_count": null,
   "metadata": {
    "collapsed": true
   },
   "outputs": [],
   "source": []
  },
  {
   "cell_type": "code",
   "execution_count": null,
   "metadata": {
    "collapsed": true
   },
   "outputs": [],
   "source": []
  },
  {
   "cell_type": "code",
   "execution_count": null,
   "metadata": {
    "collapsed": true
   },
   "outputs": [],
   "source": []
  },
  {
   "cell_type": "code",
   "execution_count": null,
   "metadata": {
    "collapsed": true
   },
   "outputs": [],
   "source": []
  },
  {
   "cell_type": "code",
   "execution_count": null,
   "metadata": {
    "collapsed": true
   },
   "outputs": [],
   "source": []
  },
  {
   "cell_type": "code",
   "execution_count": null,
   "metadata": {
    "collapsed": true
   },
   "outputs": [],
   "source": []
  },
  {
   "cell_type": "code",
   "execution_count": null,
   "metadata": {
    "collapsed": true
   },
   "outputs": [],
   "source": []
  },
  {
   "cell_type": "code",
   "execution_count": null,
   "metadata": {
    "collapsed": true
   },
   "outputs": [],
   "source": []
  },
  {
   "cell_type": "code",
   "execution_count": null,
   "metadata": {
    "collapsed": true
   },
   "outputs": [],
   "source": []
  },
  {
   "cell_type": "code",
   "execution_count": null,
   "metadata": {
    "collapsed": true
   },
   "outputs": [],
   "source": []
  }
 ],
 "metadata": {
  "anaconda-cloud": {},
  "kernelspec": {
   "display_name": "Python 3",
   "language": "python",
   "name": "python3"
  },
  "language_info": {
   "codemirror_mode": {
    "name": "ipython",
    "version": 3
   },
   "file_extension": ".py",
   "mimetype": "text/x-python",
   "name": "python",
   "nbconvert_exporter": "python",
   "pygments_lexer": "ipython3",
   "version": "3.6.1"
  }
 },
 "nbformat": 4,
 "nbformat_minor": 2
}
