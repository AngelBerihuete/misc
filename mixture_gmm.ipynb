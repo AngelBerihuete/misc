{
 "cells": [
  {
   "cell_type": "code",
   "execution_count": 1,
   "metadata": {
    "collapsed": true
   },
   "outputs": [],
   "source": [
    "import numpy as np\n",
    "import matplotlib.pylab as plt\n",
    "%matplotlib inline\n",
    "import tensorflow as tf\n",
    "import scipy.stats as sps\n",
    "import edward as ed\n",
    "import edward.models as edm\n",
    "from tensorflow.contrib.linalg import LinearOperatorTriL\n",
    "import itertools\n",
    "ds = tf.contrib.distributions"
   ]
  },
  {
   "cell_type": "code",
   "execution_count": 2,
   "metadata": {
    "collapsed": true
   },
   "outputs": [],
   "source": [
    "# http://edwardlib.org/tutorials/unsupervised\n",
    "def build_toy_dataset(N):\n",
    "  pi = np.array([0.3, 0.2,0.5])\n",
    "  mus = [[1, 3], [-2, -5],[5,-3]]\n",
    "  #stds = [[[0.1, 0.1], [0.1, 0.1]], [[0.1, 0.1], [0.1, 0.1]] ]\\\\\n",
    "  stds = np.array([[[1,1.5], [1.5, 2.5]], [[1, 0], [0, 1]],[[2, -1.2], [-1.2, 2]] ])\n",
    "  x = np.zeros((N, 2), dtype=np.float32)\n",
    "  for n in range(N):\n",
    "    k = np.argmax(np.random.multinomial(1, pi))\n",
    "    x[n, :] = np.random.multivariate_normal(mus[k], stds[k,:,:])\n",
    "\n",
    "  return x\n",
    "\n",
    "N = 500  # number of data points\n",
    "D = 2  # dimensionality of data\n",
    "\n",
    "x_train = build_toy_dataset(N)"
   ]
  },
  {
   "cell_type": "code",
   "execution_count": 3,
   "metadata": {
    "scrolled": true
   },
   "outputs": [
    {
     "data": {
      "image/png": "[encoded data removed]",
      "text/plain": [
       "<matplotlib.figure.Figure at 0x26948557128>"
      ]
     },
     "metadata": {},
     "output_type": "display_data"
    }
   ],
   "source": [
    "plt.scatter(x_train[:, 0], x_train[:, 1])\n",
    "plt.axis([-10, 10, -10, 10])\n",
    "plt.show()"
   ]
  },
  {
   "cell_type": "markdown",
   "metadata": {},
   "source": [
    "$$\\text{Pr}(\\textbf{x}_i|\\boldsymbol{\\pi},\\boldsymbol{\\mu},\\boldsymbol{\\Sigma})=\\sum_{k=1}^K \\pi_k \\text{N}(\\textbf{x}_i|\\mu_k,\\Sigma_k)$$"
   ]
  },
  {
   "cell_type": "markdown",
   "metadata": {},
   "source": [
    "$$\\begin{aligned}\n",
    "\\pi_k\\sim&\\text{Dir}(\\pi_k|\\boldsymbol{\\alpha})\\\\\n",
    "\\mu_k\\sim&\\text{N}(\\mu_k|\\boldsymbol{\\mu}_0,\\Sigma_0)\\\\\n",
    "\\Sigma_k\\sim&\\text{Wischart}(\\nu_0,\\Psi_0)\n",
    "\\end{aligned}$$"
   ]
  },
  {
   "cell_type": "code",
   "execution_count": 4,
   "metadata": {
    "collapsed": true
   },
   "outputs": [],
   "source": [
    "K = 3 # number of components\n",
    "# priors\n",
    "nu0 = tf.Variable(D, dtype=tf.float32, trainable=False)\n",
    "psi0 = tf.Variable(np.eye(D),\n",
    "                      dtype=tf.float32, trainable=False)\n",
    "mu0 = tf.Variable(np.zeros(D), dtype=tf.float32, trainable=False)\n",
    "sigma0 = tf.Variable(np.eye(D),\n",
    "                      dtype=tf.float32, trainable=False)\n",
    "pi = edm.Dirichlet(tf.ones(K))\n",
    "sigma = edm.WishartCholesky(df=nu0, scale=psi0,cholesky_input_output_matrices=True,sample_shape=K)\n",
    "mu = edm.MultivariateNormalTriL(mu0,sigma0,sample_shape=K)\n",
    "#mu = edm.Normal(tf.zeros(D), tf.ones(D), sample_shape=K)\n",
    "cat = edm.Categorical(probs=pi,sample_shape=K)\n",
    "# components = [\n",
    "#     edm.MultivariateNormalDiag(mu[k], sigma[k], sample_shape=N)\n",
    "#     for k in range(K)]\n",
    "# x = edm.Mixture(cat=cat, components=components)"
   ]
  },
  {
   "cell_type": "code",
   "execution_count": 5,
   "metadata": {
    "collapsed": true
   },
   "outputs": [],
   "source": [
    "components = [\n",
    "    edm.MultivariateNormalTriL(tf.gather(mu,k), \n",
    "                               tf.gather(sigma,k),sample_shape=N)\n",
    "    for k in range(K)]"
   ]
  },
  {
   "cell_type": "code",
   "execution_count": 6,
   "metadata": {
    "collapsed": true
   },
   "outputs": [],
   "source": [
    "x = edm.Mixture(cat=cat, components=components,sample_shape=N)"
   ]
  },
  {
   "cell_type": "code",
   "execution_count": 7,
   "metadata": {
    "collapsed": true
   },
   "outputs": [],
   "source": [
    "qpsi0 = tf.Variable(tf.random_normal([K,D, D], dtype=tf.float32))\n",
    "Ltril = LinearOperatorTriL(ds.matrix_diag_transform(qpsi0, transform=tf.nn.softplus)).to_dense()\n",
    "qsigma=edm.WishartCholesky(df=tf.ones([K])*100,scale=Ltril)\n"
   ]
  },
  {
   "cell_type": "code",
   "execution_count": 8,
   "metadata": {
    "collapsed": true
   },
   "outputs": [],
   "source": [
    "qmu = edm.Normal(\n",
    "    loc=tf.Variable(tf.random_normal([K, D])),\n",
    "    scale=tf.nn.softplus(tf.Variable(tf.zeros([K, D]))))\n",
    "#qmu0 = tf.Variable(tf.random_normal([K,D], dtype=tf.float32))\n",
    "# qR = tf.Variable(tf.random_normal([K,D, D], dtype=tf.float32))\n",
    "# #qmu = edm.MultivariateNormalTriL(qmu0, qR,sample_shape=K)\n",
    "# qmu=tf.stack([edm.MultivariateNormalTriL(qmu0[k], qR[k]) for k in range(K)],axis=0)"
   ]
  },
  {
   "cell_type": "code",
   "execution_count": 9,
   "metadata": {
    "collapsed": true
   },
   "outputs": [],
   "source": [
    "inference = ed.KLqp({mu: qmu, sigma: qsigma}, data={x: x_train}) # pi:qpi\n",
    "inference.initialize(n_iter=2000, n_print=50, n_samples=30)\n",
    "sess = ed.get_session()\n",
    "init = tf.global_variables_initializer()\n",
    "init.run()"
   ]
  },
  {
   "cell_type": "code",
   "execution_count": 10,
   "metadata": {
    "scrolled": true
   },
   "outputs": [
    {
     "name": "stdout",
     "output_type": "stream",
     "text": [
      "{'t': 1, 'loss': 81789.898}\n",
      "{'t': 51, 'loss': 3102.7441}\n",
      "{'t': 101, 'loss': 2778.6619}\n",
      "{'t': 151, 'loss': 2607.3647}\n",
      "{'t': 201, 'loss': 2409.4385}\n",
      "{'t': 251, 'loss': 2371.1042}\n",
      "{'t': 301, 'loss': 2479.6611}\n",
      "{'t': 351, 'loss': 2341.2671}\n",
      "{'t': 401, 'loss': 2257.1438}\n",
      "{'t': 451, 'loss': 2245.4783}\n",
      "{'t': 501, 'loss': 2295.0068}\n",
      "{'t': 551, 'loss': 2269.0354}\n",
      "{'t': 601, 'loss': 2315.5691}\n",
      "{'t': 651, 'loss': 2296.3799}\n",
      "{'t': 701, 'loss': 2278.2112}\n",
      "{'t': 751, 'loss': 2342.4753}\n",
      "{'t': 801, 'loss': 2309.3694}\n",
      "{'t': 851, 'loss': 2266.2664}\n",
      "{'t': 901, 'loss': 2333.7766}\n",
      "{'t': 951, 'loss': 2295.7739}\n",
      "{'t': 1001, 'loss': 2305.095}\n",
      "{'t': 1051, 'loss': 2317.6963}\n",
      "{'t': 1101, 'loss': 2252.6716}\n",
      "{'t': 1151, 'loss': 2305.7305}\n",
      "{'t': 1201, 'loss': 2303.1594}\n",
      "{'t': 1251, 'loss': 2309.7778}\n",
      "{'t': 1301, 'loss': 2269.635}\n",
      "{'t': 1351, 'loss': 2303.9089}\n",
      "{'t': 1401, 'loss': 2289.7468}\n",
      "{'t': 1451, 'loss': 2266.6313}\n",
      "{'t': 1501, 'loss': 2322.2275}\n",
      "{'t': 1551, 'loss': 2290.1362}\n",
      "{'t': 1601, 'loss': 2308.2766}\n",
      "{'t': 1651, 'loss': 2333.8625}\n",
      "{'t': 1701, 'loss': 2319.416}\n",
      "{'t': 1751, 'loss': 2275.8567}\n",
      "{'t': 1801, 'loss': 2350.9219}\n",
      "{'t': 1851, 'loss': 2288.9309}\n",
      "{'t': 1901, 'loss': 2297.2522}\n",
      "{'t': 1951, 'loss': 2351.3679}\n"
     ]
    },
    {
     "data": {
      "text/plain": [
       "[<matplotlib.lines.Line2D at 0x2691bdc6a58>]"
      ]
     },
     "execution_count": 10,
     "metadata": {},
     "output_type": "execute_result"
    },
    {
     "data": {
      "image/png": "[encoded data removed]",
      "text/plain": [
       "<matplotlib.figure.Figure at 0x26908fd9d30>"
      ]
     },
     "metadata": {},
     "output_type": "display_data"
    }
   ],
   "source": [
    "learning_curve = []\n",
    "for _ in range(inference.n_iter):\n",
    "    info_dict = inference.update()\n",
    "    if _%50 == 0:\n",
    "        print(info_dict)\n",
    "    learning_curve.append(info_dict['loss'])\n",
    "plt.semilogy(learning_curve)"
   ]
  },
  {
   "cell_type": "code",
   "execution_count": 11,
   "metadata": {},
   "outputs": [
    {
     "data": {
      "text/plain": [
       "array([[ 1.06273675,  3.09721231],\n",
       "       [ 0.48159429, -4.29892683],\n",
       "       [ 5.07384729, -3.02314186]], dtype=float32)"
      ]
     },
     "execution_count": 11,
     "metadata": {},
     "output_type": "execute_result"
    }
   ],
   "source": [
    "qmu.loc.eval()"
   ]
  },
  {
   "cell_type": "code",
   "execution_count": 12,
   "metadata": {
    "collapsed": true
   },
   "outputs": [],
   "source": [
    "LL0=Ltril[0].eval()\n",
    "LL1=Ltril[1].eval()\n",
    "LL2=Ltril[2].eval()\n",
    "psi_eval0=np.matmul(LL0,np.transpose(LL0))\n",
    "\n",
    "psi_eval1=np.matmul(LL1,np.transpose(LL1))\n",
    "\n",
    "psi_eval2=np.matmul(LL2,np.transpose(LL2))"
   ]
  },
  {
   "cell_type": "code",
   "execution_count": 13,
   "metadata": {
    "collapsed": true
   },
   "outputs": [],
   "source": [
    "sigma_draws0=sps.wishart.rvs(100,psi_eval0,N)\n",
    "sigma_draws1=sps.wishart.rvs(100,psi_eval1,N)\n",
    "sigma_draws2=sps.wishart.rvs(100,psi_eval2,N)"
   ]
  },
  {
   "cell_type": "code",
   "execution_count": 14,
   "metadata": {
    "collapsed": true
   },
   "outputs": [],
   "source": [
    "mu_draws0=sps.multivariate_normal.rvs(qmu.loc[0].eval(),np.diag(qmu.scale[0].eval()),N)\n",
    "mu_draws1=sps.multivariate_normal.rvs(qmu.loc[1].eval(),np.diag(qmu.scale[1].eval()),N)\n",
    "mu_draws2=sps.multivariate_normal.rvs(qmu.loc[2].eval(),np.diag(qmu.scale[2].eval()),N)"
   ]
  },
  {
   "cell_type": "code",
   "execution_count": 15,
   "metadata": {
    "collapsed": true
   },
   "outputs": [],
   "source": [
    "x_draws0=np.zeros([N,2])\n",
    "x_draws1=np.zeros([N,2])\n",
    "x_draws2=np.zeros([N,2])"
   ]
  },
  {
   "cell_type": "code",
   "execution_count": 16,
   "metadata": {
    "collapsed": true
   },
   "outputs": [],
   "source": [
    "for i in range(N):\n",
    "    x_draws0[i,:]=sps.multivariate_normal.rvs(mu_draws0[i,:],sigma_draws0[i,:,:])\n",
    "    x_draws1[i,:]=sps.multivariate_normal.rvs(mu_draws1[i,:],sigma_draws1[i,:,:])\n",
    "    x_draws2[i,:]=sps.multivariate_normal.rvs(mu_draws2[i,:],sigma_draws2[i,:,:])\n",
    "    "
   ]
  },
  {
   "cell_type": "code",
   "execution_count": 17,
   "metadata": {
    "scrolled": true
   },
   "outputs": [
    {
     "data": {
      "text/plain": [
       "[<matplotlib.lines.Line2D at 0x2690a86e390>,\n",
       " <matplotlib.lines.Line2D at 0x2690a86e518>,\n",
       " <matplotlib.lines.Line2D at 0x2690a86ee80>,\n",
       " <matplotlib.lines.Line2D at 0x2690a877668>]"
      ]
     },
     "execution_count": 17,
     "metadata": {},
     "output_type": "execute_result"
    },
    {
     "data": {
      "image/png": "[encoded data removed]",
      "text/plain": [
       "<matplotlib.figure.Figure at 0x2690a7ea470>"
      ]
     },
     "metadata": {},
     "output_type": "display_data"
    }
   ],
   "source": [
    "plt.plot(x_draws2[:,0],x_draws2[:,1],'yo',x_draws1[:,0],x_draws1[:,1],'go',x_draws0[:,0],x_draws0[:,1],'ro',x_train[:,0],x_train[:,1],'bo')"
   ]
  },
  {
   "cell_type": "markdown",
   "metadata": {
    "collapsed": true
   },
   "source": [
    "Let's include pi"
   ]
  },
  {
   "cell_type": "code",
   "execution_count": 19,
   "metadata": {
    "collapsed": true
   },
   "outputs": [],
   "source": [
    "qpi_alpha = tf.nn.softplus(tf.Variable(tf.random_normal([K])))\n",
    "#pi = edm.Dirichlet(tf.ones([N,K]))\n",
    "qpi = edm.Dirichlet(qpi_alpha)"
   ]
  },
  {
   "cell_type": "code",
   "execution_count": 20,
   "metadata": {},
   "outputs": [],
   "source": [
    "inference2 = ed.KLqp({pi:qpi,mu: qmu, sigma: qsigma}, data={x: x_train}) # pi:qpi\n",
    "inference2.initialize(n_iter=2000, n_print=50, n_samples=30)\n",
    "sess = ed.get_session()\n",
    "init = tf.global_variables_initializer()\n",
    "init.run()"
   ]
  },
  {
   "cell_type": "code",
   "execution_count": 21,
   "metadata": {},
   "outputs": [
    {
     "name": "stdout",
     "output_type": "stream",
     "text": [
      "{'t': 1, 'loss': 11417.506}\n",
      "{'t': 51, 'loss': 6963.3013}\n",
      "{'t': 101, 'loss': 4899.7876}\n",
      "{'t': 151, 'loss': 3670.1423}\n",
      "{'t': 201, 'loss': 4629.686}\n",
      "{'t': 251, 'loss': 5105.4995}\n",
      "{'t': 301, 'loss': 19300.967}\n",
      "{'t': 351, 'loss': 3574.0105}\n",
      "{'t': 401, 'loss': 4646.4341}\n",
      "{'t': 451, 'loss': 11564.399}\n",
      "{'t': 501, 'loss': 7219.1104}\n",
      "{'t': 551, 'loss': 24680.336}\n",
      "{'t': 601, 'loss': 94791.977}\n",
      "{'t': 651, 'loss': 104146.43}\n",
      "{'t': 701, 'loss': 46842.449}\n",
      "{'t': 751, 'loss': 77264.133}\n",
      "{'t': 801, 'loss': 59105.391}\n",
      "{'t': 851, 'loss': 52533.25}\n",
      "{'t': 901, 'loss': 60703.059}\n",
      "{'t': 951, 'loss': 56707.391}\n",
      "{'t': 1001, 'loss': 60466.223}\n",
      "{'t': 1051, 'loss': 58892.988}\n",
      "{'t': 1101, 'loss': 53800.461}\n",
      "{'t': 1151, 'loss': 60398.324}\n",
      "{'t': 1201, 'loss': 61060.875}\n",
      "{'t': 1251, 'loss': 55876.102}\n",
      "{'t': 1301, 'loss': 53566.492}\n",
      "{'t': 1351, 'loss': 53743.273}\n",
      "{'t': 1401, 'loss': 55821.434}\n",
      "{'t': 1451, 'loss': 62991.039}\n",
      "{'t': 1501, 'loss': 56477.754}\n",
      "{'t': 1551, 'loss': 57520.484}\n",
      "{'t': 1601, 'loss': 55617.633}\n",
      "{'t': 1651, 'loss': 55587.016}\n",
      "{'t': 1701, 'loss': 55630.012}\n",
      "{'t': 1751, 'loss': 51322.926}\n",
      "{'t': 1801, 'loss': 56774.637}\n",
      "{'t': 1851, 'loss': 54985.648}\n",
      "{'t': 1901, 'loss': 56391.449}\n",
      "{'t': 1951, 'loss': 55339.301}\n"
     ]
    },
    {
     "data": {
      "text/plain": [
       "[<matplotlib.lines.Line2D at 0x269a1898cc0>]"
      ]
     },
     "execution_count": 21,
     "metadata": {},
     "output_type": "execute_result"
    },
    {
     "data": {
      "image/png": "[encoded data removed]",
      "text/plain": [
       "<matplotlib.figure.Figure at 0x26992d20be0>"
      ]
     },
     "metadata": {},
     "output_type": "display_data"
    }
   ],
   "source": [
    "learning_curve = []\n",
    "for _ in range(inference2.n_iter):\n",
    "    info_dict = inference2.update()\n",
    "    if _%50 == 0:\n",
    "        print(info_dict)\n",
    "    learning_curve.append(info_dict['loss'])\n",
    "plt.semilogy(learning_curve)"
   ]
  },
  {
   "cell_type": "code",
   "execution_count": 22,
   "metadata": {
    "collapsed": true
   },
   "outputs": [],
   "source": [
    "LL0=Ltril[0].eval()\n",
    "LL1=Ltril[1].eval()\n",
    "LL2=Ltril[2].eval()\n",
    "psi_eval0=np.matmul(LL0,np.transpose(LL0))\n",
    "\n",
    "psi_eval1=np.matmul(LL1,np.transpose(LL1))\n",
    "\n",
    "psi_eval2=np.matmul(LL2,np.transpose(LL2))"
   ]
  },
  {
   "cell_type": "code",
   "execution_count": 23,
   "metadata": {
    "collapsed": true
   },
   "outputs": [],
   "source": [
    "sigma_draws0=sps.wishart.rvs(100,psi_eval0,N)\n",
    "sigma_draws1=sps.wishart.rvs(100,psi_eval1,N)\n",
    "sigma_draws2=sps.wishart.rvs(100,psi_eval2,N)"
   ]
  },
  {
   "cell_type": "code",
   "execution_count": 24,
   "metadata": {
    "collapsed": true
   },
   "outputs": [],
   "source": [
    "mu_draws0=sps.multivariate_normal.rvs(qmu.loc[0].eval(),np.diag(qmu.scale[0].eval()),N)\n",
    "mu_draws1=sps.multivariate_normal.rvs(qmu.loc[1].eval(),np.diag(qmu.scale[1].eval()),N)\n",
    "mu_draws2=sps.multivariate_normal.rvs(qmu.loc[2].eval(),np.diag(qmu.scale[2].eval()),N)"
   ]
  },
  {
   "cell_type": "code",
   "execution_count": 25,
   "metadata": {
    "collapsed": true
   },
   "outputs": [],
   "source": [
    "x_draws0=np.zeros([N,2])\n",
    "x_draws1=np.zeros([N,2])\n",
    "x_draws2=np.zeros([N,2])"
   ]
  },
  {
   "cell_type": "code",
   "execution_count": 26,
   "metadata": {
    "collapsed": true
   },
   "outputs": [],
   "source": [
    "for i in range(N):\n",
    "    x_draws0[i,:]=sps.multivariate_normal.rvs(mu_draws0[i,:],sigma_draws0[i,:,:])\n",
    "    x_draws1[i,:]=sps.multivariate_normal.rvs(mu_draws1[i,:],sigma_draws1[i,:,:])\n",
    "    x_draws2[i,:]=sps.multivariate_normal.rvs(mu_draws2[i,:],sigma_draws2[i,:,:])\n",
    "    "
   ]
  },
  {
   "cell_type": "code",
   "execution_count": 27,
   "metadata": {},
   "outputs": [
    {
     "data": {
      "text/plain": [
       "[<matplotlib.lines.Line2D at 0x2699328e5c0>,\n",
       " <matplotlib.lines.Line2D at 0x26993288e10>,\n",
       " <matplotlib.lines.Line2D at 0x269932824e0>,\n",
       " <matplotlib.lines.Line2D at 0x269932799b0>]"
      ]
     },
     "execution_count": 27,
     "metadata": {},
     "output_type": "execute_result"
    },
    {
     "data": {
      "image/png": "[encoded data removed]",
      "text/plain": [
       "<matplotlib.figure.Figure at 0x26993229860>"
      ]
     },
     "metadata": {},
     "output_type": "display_data"
    }
   ],
   "source": [
    "plt.plot(x_draws2[:,0],x_draws2[:,1],'yo',x_draws1[:,0],x_draws1[:,1],'go',x_draws0[:,0],x_draws0[:,1],'ro',x_train[:,0],x_train[:,1],'bo')"
   ]
  },
  {
   "cell_type": "code",
   "execution_count": null,
   "metadata": {
    "collapsed": true
   },
   "outputs": [],
   "source": []
  }
 ],
 "metadata": {
  "kernelspec": {
   "display_name": "Python 3",
   "language": "python",
   "name": "python3"
  },
  "language_info": {
   "codemirror_mode": {
    "name": "ipython",
    "version": 3
   },
   "file_extension": ".py",
   "mimetype": "text/x-python",
   "name": "python",
   "nbconvert_exporter": "python",
   "pygments_lexer": "ipython3",
   "version": "3.6.1"
  }
 },
 "nbformat": 4,
 "nbformat_minor": 2
}
